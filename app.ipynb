{
 "cells": [
  {
   "cell_type": "code",
   "execution_count": 1,
   "metadata": {},
   "outputs": [
    {
     "name": "stdout",
     "output_type": "stream",
     "text": [
      "Requirement already satisfied: streamlit==1.33.0 in ./.venv/lib/python3.12/site-packages (from -r requirements.txt (line 1)) (1.33.0)\n",
      "Requirement already satisfied: streamlit-camera-input-live==0.2.0 in ./.venv/lib/python3.12/site-packages (from -r requirements.txt (line 2)) (0.2.0)\n",
      "Requirement already satisfied: streamlit-card==1.0.0 in ./.venv/lib/python3.12/site-packages (from -r requirements.txt (line 3)) (1.0.0)\n",
      "Requirement already satisfied: streamlit-chat==0.1.1 in ./.venv/lib/python3.12/site-packages (from -r requirements.txt (line 4)) (0.1.1)\n",
      "Requirement already satisfied: streamlit-embedcode==0.1.2 in ./.venv/lib/python3.12/site-packages (from -r requirements.txt (line 5)) (0.1.2)\n",
      "Requirement already satisfied: streamlit-extras==0.4.2 in ./.venv/lib/python3.12/site-packages (from -r requirements.txt (line 6)) (0.4.2)\n",
      "Requirement already satisfied: streamlit-faker==0.0.3 in ./.venv/lib/python3.12/site-packages (from -r requirements.txt (line 7)) (0.0.3)\n",
      "Requirement already satisfied: streamlit-image-coordinates==0.1.6 in ./.venv/lib/python3.12/site-packages (from -r requirements.txt (line 8)) (0.1.6)\n",
      "Requirement already satisfied: streamlit-keyup==0.2.4 in ./.venv/lib/python3.12/site-packages (from -r requirements.txt (line 9)) (0.2.4)\n",
      "Requirement already satisfied: streamlit-toggle-switch==1.0.2 in ./.venv/lib/python3.12/site-packages (from -r requirements.txt (line 10)) (1.0.2)\n",
      "Requirement already satisfied: streamlit-vertical-slider==2.5.5 in ./.venv/lib/python3.12/site-packages (from -r requirements.txt (line 11)) (2.5.5)\n",
      "Requirement already satisfied: hugchat==0.4.1 in ./.venv/lib/python3.12/site-packages (from -r requirements.txt (line 14)) (0.4.1)\n",
      "Requirement already satisfied: altair<6,>=4.0 in ./.venv/lib/python3.12/site-packages (from streamlit==1.33.0->-r requirements.txt (line 1)) (5.3.0)\n",
      "Requirement already satisfied: blinker<2,>=1.0.0 in ./.venv/lib/python3.12/site-packages (from streamlit==1.33.0->-r requirements.txt (line 1)) (1.7.0)\n",
      "Requirement already satisfied: cachetools<6,>=4.0 in ./.venv/lib/python3.12/site-packages (from streamlit==1.33.0->-r requirements.txt (line 1)) (5.3.3)\n",
      "Requirement already satisfied: click<9,>=7.0 in ./.venv/lib/python3.12/site-packages (from streamlit==1.33.0->-r requirements.txt (line 1)) (8.1.7)\n",
      "Requirement already satisfied: numpy<2,>=1.19.3 in ./.venv/lib/python3.12/site-packages (from streamlit==1.33.0->-r requirements.txt (line 1)) (1.26.4)\n",
      "Requirement already satisfied: packaging<25,>=16.8 in ./.venv/lib/python3.12/site-packages (from streamlit==1.33.0->-r requirements.txt (line 1)) (24.0)\n",
      "Requirement already satisfied: pandas<3,>=1.3.0 in ./.venv/lib/python3.12/site-packages (from streamlit==1.33.0->-r requirements.txt (line 1)) (2.2.1)\n",
      "Requirement already satisfied: pillow<11,>=7.1.0 in ./.venv/lib/python3.12/site-packages (from streamlit==1.33.0->-r requirements.txt (line 1)) (10.3.0)\n",
      "Requirement already satisfied: protobuf<5,>=3.20 in ./.venv/lib/python3.12/site-packages (from streamlit==1.33.0->-r requirements.txt (line 1)) (4.25.3)\n",
      "Requirement already satisfied: pyarrow>=7.0 in ./.venv/lib/python3.12/site-packages (from streamlit==1.33.0->-r requirements.txt (line 1)) (15.0.2)\n",
      "Requirement already satisfied: requests<3,>=2.27 in ./.venv/lib/python3.12/site-packages (from streamlit==1.33.0->-r requirements.txt (line 1)) (2.31.0)\n",
      "Requirement already satisfied: rich<14,>=10.14.0 in ./.venv/lib/python3.12/site-packages (from streamlit==1.33.0->-r requirements.txt (line 1)) (13.7.1)\n",
      "Requirement already satisfied: tenacity<9,>=8.1.0 in ./.venv/lib/python3.12/site-packages (from streamlit==1.33.0->-r requirements.txt (line 1)) (8.2.3)\n",
      "Requirement already satisfied: toml<2,>=0.10.1 in ./.venv/lib/python3.12/site-packages (from streamlit==1.33.0->-r requirements.txt (line 1)) (0.10.2)\n",
      "Requirement already satisfied: typing-extensions<5,>=4.3.0 in ./.venv/lib/python3.12/site-packages (from streamlit==1.33.0->-r requirements.txt (line 1)) (4.10.0)\n",
      "Requirement already satisfied: gitpython!=3.1.19,<4,>=3.0.7 in ./.venv/lib/python3.12/site-packages (from streamlit==1.33.0->-r requirements.txt (line 1)) (3.1.43)\n",
      "Requirement already satisfied: pydeck<1,>=0.8.0b4 in ./.venv/lib/python3.12/site-packages (from streamlit==1.33.0->-r requirements.txt (line 1)) (0.8.1b0)\n",
      "Requirement already satisfied: tornado<7,>=6.0.3 in ./.venv/lib/python3.12/site-packages (from streamlit==1.33.0->-r requirements.txt (line 1)) (6.4)\n",
      "Requirement already satisfied: jinja2 in ./.venv/lib/python3.12/site-packages (from streamlit-camera-input-live==0.2.0->-r requirements.txt (line 2)) (3.1.3)\n",
      "Requirement already satisfied: entrypoints>=0.4 in ./.venv/lib/python3.12/site-packages (from streamlit-extras==0.4.2->-r requirements.txt (line 6)) (0.4)\n",
      "Requirement already satisfied: htbuilder>=0.6.2 in ./.venv/lib/python3.12/site-packages (from streamlit-extras==0.4.2->-r requirements.txt (line 6)) (0.6.2)\n",
      "Requirement already satisfied: markdownlit>=0.0.5 in ./.venv/lib/python3.12/site-packages (from streamlit-extras==0.4.2->-r requirements.txt (line 6)) (0.0.7)\n",
      "Requirement already satisfied: prometheus-client>=0.14.0 in ./.venv/lib/python3.12/site-packages (from streamlit-extras==0.4.2->-r requirements.txt (line 6)) (0.20.0)\n",
      "Requirement already satisfied: st-annotated-text>=3.0.0 in ./.venv/lib/python3.12/site-packages (from streamlit-extras==0.4.2->-r requirements.txt (line 6)) (4.0.1)\n",
      "Requirement already satisfied: validators>=0.20.0 in ./.venv/lib/python3.12/site-packages (from streamlit-extras==0.4.2->-r requirements.txt (line 6)) (0.28.0)\n",
      "Requirement already satisfied: faker in ./.venv/lib/python3.12/site-packages (from streamlit-faker==0.0.3->-r requirements.txt (line 7)) (24.4.0)\n",
      "Requirement already satisfied: matplotlib in ./.venv/lib/python3.12/site-packages (from streamlit-faker==0.0.3->-r requirements.txt (line 7)) (3.8.4)\n",
      "Requirement already satisfied: requests-toolbelt in ./.venv/lib/python3.12/site-packages (from hugchat==0.4.1->-r requirements.txt (line 14)) (1.0.0)\n",
      "Requirement already satisfied: jsonschema>=3.0 in ./.venv/lib/python3.12/site-packages (from altair<6,>=4.0->streamlit==1.33.0->-r requirements.txt (line 1)) (4.21.1)\n",
      "Requirement already satisfied: toolz in ./.venv/lib/python3.12/site-packages (from altair<6,>=4.0->streamlit==1.33.0->-r requirements.txt (line 1)) (0.12.1)\n",
      "Requirement already satisfied: gitdb<5,>=4.0.1 in ./.venv/lib/python3.12/site-packages (from gitpython!=3.1.19,<4,>=3.0.7->streamlit==1.33.0->-r requirements.txt (line 1)) (4.0.11)\n",
      "Requirement already satisfied: more-itertools in ./.venv/lib/python3.12/site-packages (from htbuilder>=0.6.2->streamlit-extras==0.4.2->-r requirements.txt (line 6)) (10.2.0)\n",
      "Requirement already satisfied: markdown in ./.venv/lib/python3.12/site-packages (from markdownlit>=0.0.5->streamlit-extras==0.4.2->-r requirements.txt (line 6)) (3.6)\n",
      "Requirement already satisfied: lxml in ./.venv/lib/python3.12/site-packages (from markdownlit>=0.0.5->streamlit-extras==0.4.2->-r requirements.txt (line 6)) (5.2.1)\n",
      "Requirement already satisfied: favicon in ./.venv/lib/python3.12/site-packages (from markdownlit>=0.0.5->streamlit-extras==0.4.2->-r requirements.txt (line 6)) (0.7.0)\n",
      "Requirement already satisfied: pymdown-extensions in ./.venv/lib/python3.12/site-packages (from markdownlit>=0.0.5->streamlit-extras==0.4.2->-r requirements.txt (line 6)) (10.7.1)\n",
      "Requirement already satisfied: python-dateutil>=2.8.2 in ./.venv/lib/python3.12/site-packages (from pandas<3,>=1.3.0->streamlit==1.33.0->-r requirements.txt (line 1)) (2.9.0.post0)\n",
      "Requirement already satisfied: pytz>=2020.1 in ./.venv/lib/python3.12/site-packages (from pandas<3,>=1.3.0->streamlit==1.33.0->-r requirements.txt (line 1)) (2024.1)\n",
      "Requirement already satisfied: tzdata>=2022.7 in ./.venv/lib/python3.12/site-packages (from pandas<3,>=1.3.0->streamlit==1.33.0->-r requirements.txt (line 1)) (2024.1)\n",
      "Requirement already satisfied: MarkupSafe>=2.0 in ./.venv/lib/python3.12/site-packages (from jinja2->streamlit-camera-input-live==0.2.0->-r requirements.txt (line 2)) (2.1.5)\n",
      "Requirement already satisfied: charset-normalizer<4,>=2 in ./.venv/lib/python3.12/site-packages (from requests<3,>=2.27->streamlit==1.33.0->-r requirements.txt (line 1)) (3.3.2)\n",
      "Requirement already satisfied: idna<4,>=2.5 in ./.venv/lib/python3.12/site-packages (from requests<3,>=2.27->streamlit==1.33.0->-r requirements.txt (line 1)) (3.6)\n",
      "Requirement already satisfied: urllib3<3,>=1.21.1 in ./.venv/lib/python3.12/site-packages (from requests<3,>=2.27->streamlit==1.33.0->-r requirements.txt (line 1)) (2.2.1)\n",
      "Requirement already satisfied: certifi>=2017.4.17 in ./.venv/lib/python3.12/site-packages (from requests<3,>=2.27->streamlit==1.33.0->-r requirements.txt (line 1)) (2024.2.2)\n",
      "Requirement already satisfied: markdown-it-py>=2.2.0 in ./.venv/lib/python3.12/site-packages (from rich<14,>=10.14.0->streamlit==1.33.0->-r requirements.txt (line 1)) (3.0.0)\n",
      "Requirement already satisfied: pygments<3.0.0,>=2.13.0 in ./.venv/lib/python3.12/site-packages (from rich<14,>=10.14.0->streamlit==1.33.0->-r requirements.txt (line 1)) (2.17.2)\n",
      "Requirement already satisfied: contourpy>=1.0.1 in ./.venv/lib/python3.12/site-packages (from matplotlib->streamlit-faker==0.0.3->-r requirements.txt (line 7)) (1.2.1)\n",
      "Requirement already satisfied: cycler>=0.10 in ./.venv/lib/python3.12/site-packages (from matplotlib->streamlit-faker==0.0.3->-r requirements.txt (line 7)) (0.12.1)\n",
      "Requirement already satisfied: fonttools>=4.22.0 in ./.venv/lib/python3.12/site-packages (from matplotlib->streamlit-faker==0.0.3->-r requirements.txt (line 7)) (4.50.0)\n",
      "Requirement already satisfied: kiwisolver>=1.3.1 in ./.venv/lib/python3.12/site-packages (from matplotlib->streamlit-faker==0.0.3->-r requirements.txt (line 7)) (1.4.5)\n",
      "Requirement already satisfied: pyparsing>=2.3.1 in ./.venv/lib/python3.12/site-packages (from matplotlib->streamlit-faker==0.0.3->-r requirements.txt (line 7)) (3.1.2)\n",
      "Requirement already satisfied: smmap<6,>=3.0.1 in ./.venv/lib/python3.12/site-packages (from gitdb<5,>=4.0.1->gitpython!=3.1.19,<4,>=3.0.7->streamlit==1.33.0->-r requirements.txt (line 1)) (5.0.1)\n",
      "Requirement already satisfied: attrs>=22.2.0 in ./.venv/lib/python3.12/site-packages (from jsonschema>=3.0->altair<6,>=4.0->streamlit==1.33.0->-r requirements.txt (line 1)) (23.2.0)\n",
      "Requirement already satisfied: jsonschema-specifications>=2023.03.6 in ./.venv/lib/python3.12/site-packages (from jsonschema>=3.0->altair<6,>=4.0->streamlit==1.33.0->-r requirements.txt (line 1)) (2023.12.1)\n",
      "Requirement already satisfied: referencing>=0.28.4 in ./.venv/lib/python3.12/site-packages (from jsonschema>=3.0->altair<6,>=4.0->streamlit==1.33.0->-r requirements.txt (line 1)) (0.34.0)\n",
      "Requirement already satisfied: rpds-py>=0.7.1 in ./.venv/lib/python3.12/site-packages (from jsonschema>=3.0->altair<6,>=4.0->streamlit==1.33.0->-r requirements.txt (line 1)) (0.18.0)\n",
      "Requirement already satisfied: mdurl~=0.1 in ./.venv/lib/python3.12/site-packages (from markdown-it-py>=2.2.0->rich<14,>=10.14.0->streamlit==1.33.0->-r requirements.txt (line 1)) (0.1.2)\n",
      "Requirement already satisfied: six>=1.5 in ./.venv/lib/python3.12/site-packages (from python-dateutil>=2.8.2->pandas<3,>=1.3.0->streamlit==1.33.0->-r requirements.txt (line 1)) (1.16.0)\n",
      "Requirement already satisfied: beautifulsoup4>=4.7.0 in ./.venv/lib/python3.12/site-packages (from favicon->markdownlit>=0.0.5->streamlit-extras==0.4.2->-r requirements.txt (line 6)) (4.12.3)\n",
      "Requirement already satisfied: pyyaml in ./.venv/lib/python3.12/site-packages (from pymdown-extensions->markdownlit>=0.0.5->streamlit-extras==0.4.2->-r requirements.txt (line 6)) (6.0.1)\n",
      "Requirement already satisfied: soupsieve>1.2 in ./.venv/lib/python3.12/site-packages (from beautifulsoup4>=4.7.0->favicon->markdownlit>=0.0.5->streamlit-extras==0.4.2->-r requirements.txt (line 6)) (2.5)\n",
      "Note: you may need to restart the kernel to use updated packages.\n"
     ]
    }
   ],
   "source": [
    "%pip install -r requirements.txt"
   ]
  },
  {
   "cell_type": "code",
   "execution_count": 2,
   "metadata": {},
   "outputs": [],
   "source": [
    "import streamlit as st\n",
    "from streamlit_chat import message\n",
    "from streamlit_extras.colored_header import colored_header\n",
    "from streamlit_extras.add_vertical_space import add_vertical_space\n",
    "from hugchat import hugchat"
   ]
  },
  {
   "cell_type": "code",
   "execution_count": 3,
   "metadata": {},
   "outputs": [
    {
     "name": "stderr",
     "output_type": "stream",
     "text": [
      "2024-04-08 14:19:02.620 WARNING streamlit.runtime.state.session_state_proxy: Session state does not function when running a script without `streamlit run`\n",
      "2024-04-08 14:19:02.653 \n",
      "  \u001b[33m\u001b[1mWarning:\u001b[0m to view this Streamlit app on a browser, run it with the following\n",
      "  command:\n",
      "\n",
      "    streamlit run /Users/seohyeonlee/Documents/ventbot/.venv/lib/python3.12/site-packages/ipykernel_launcher.py [ARGUMENTS]\n"
     ]
    },
    {
     "ename": "KeyError",
     "evalue": "'st.session_state has no key \"bot_response\". Did you forget to initialize it? More info: https://docs.streamlit.io/library/advanced-features/session-state#initialization'",
     "output_type": "error",
     "traceback": [
      "\u001b[0;31m---------------------------------------------------------------------------\u001b[0m",
      "\u001b[0;31mKeyError\u001b[0m                                  Traceback (most recent call last)",
      "File \u001b[0;32m~/Documents/ventbot/.venv/lib/python3.12/site-packages/streamlit/runtime/state/session_state.py:408\u001b[0m, in \u001b[0;36mSessionState.__getitem__\u001b[0;34m(self, key)\u001b[0m\n\u001b[1;32m    407\u001b[0m \u001b[38;5;28;01mtry\u001b[39;00m:\n\u001b[0;32m--> 408\u001b[0m     \u001b[38;5;28;01mreturn\u001b[39;00m \u001b[38;5;28;43mself\u001b[39;49m\u001b[38;5;241;43m.\u001b[39;49m\u001b[43m_getitem\u001b[49m\u001b[43m(\u001b[49m\u001b[43mwidget_id\u001b[49m\u001b[43m,\u001b[49m\u001b[43m \u001b[49m\u001b[43mkey\u001b[49m\u001b[43m)\u001b[49m\n\u001b[1;32m    409\u001b[0m \u001b[38;5;28;01mexcept\u001b[39;00m \u001b[38;5;167;01mKeyError\u001b[39;00m:\n",
      "File \u001b[0;32m~/Documents/ventbot/.venv/lib/python3.12/site-packages/streamlit/runtime/state/session_state.py:453\u001b[0m, in \u001b[0;36mSessionState._getitem\u001b[0;34m(self, widget_id, user_key)\u001b[0m\n\u001b[1;32m    452\u001b[0m \u001b[38;5;66;03m# We'll never get here\u001b[39;00m\n\u001b[0;32m--> 453\u001b[0m \u001b[38;5;28;01mraise\u001b[39;00m \u001b[38;5;167;01mKeyError\u001b[39;00m\n",
      "\u001b[0;31mKeyError\u001b[0m: ",
      "\nDuring handling of the above exception, another exception occurred:\n",
      "\u001b[0;31mKeyError\u001b[0m                                  Traceback (most recent call last)",
      "Cell \u001b[0;32mIn[3], line 32\u001b[0m\n\u001b[1;32m     29\u001b[0m     st\u001b[38;5;241m.\u001b[39msession_state\u001b[38;5;241m.\u001b[39muser_input\u001b[38;5;241m.\u001b[39mappend(user_input)\n\u001b[1;32m     30\u001b[0m     st\u001b[38;5;241m.\u001b[39msession_state\u001b[38;5;241m.\u001b[39mbot_response\u001b[38;5;241m.\u001b[39mappend(response)\n\u001b[0;32m---> 32\u001b[0m \u001b[38;5;28;01mif\u001b[39;00m \u001b[43mst\u001b[49m\u001b[38;5;241;43m.\u001b[39;49m\u001b[43msession_state\u001b[49m\u001b[43m[\u001b[49m\u001b[38;5;124;43m'\u001b[39;49m\u001b[38;5;124;43mbot_response\u001b[39;49m\u001b[38;5;124;43m'\u001b[39;49m\u001b[43m]\u001b[49m:\n\u001b[1;32m     33\u001b[0m     \u001b[38;5;28;01mfor\u001b[39;00m i \u001b[38;5;129;01min\u001b[39;00m \u001b[38;5;28mrange\u001b[39m(\u001b[38;5;28mlen\u001b[39m(st\u001b[38;5;241m.\u001b[39msession_state[\u001b[38;5;124m'\u001b[39m\u001b[38;5;124mbot_response\u001b[39m\u001b[38;5;124m'\u001b[39m])):\n\u001b[1;32m     34\u001b[0m         user_input_message \u001b[38;5;241m=\u001b[39m st\u001b[38;5;241m.\u001b[39msession_state[\u001b[38;5;124m'\u001b[39m\u001b[38;5;124muser_input\u001b[39m\u001b[38;5;124m'\u001b[39m][i]\n",
      "File \u001b[0;32m~/Documents/ventbot/.venv/lib/python3.12/site-packages/streamlit/runtime/state/session_state_proxy.py:90\u001b[0m, in \u001b[0;36mSessionStateProxy.__getitem__\u001b[0;34m(self, key)\u001b[0m\n\u001b[1;32m     88\u001b[0m key \u001b[38;5;241m=\u001b[39m \u001b[38;5;28mstr\u001b[39m(key)\n\u001b[1;32m     89\u001b[0m require_valid_user_key(key)\n\u001b[0;32m---> 90\u001b[0m \u001b[38;5;28;01mreturn\u001b[39;00m \u001b[43mget_session_state\u001b[49m\u001b[43m(\u001b[49m\u001b[43m)\u001b[49m\u001b[43m[\u001b[49m\u001b[43mkey\u001b[49m\u001b[43m]\u001b[49m\n",
      "File \u001b[0;32m~/Documents/ventbot/.venv/lib/python3.12/site-packages/streamlit/runtime/state/safe_session_state.py:93\u001b[0m, in \u001b[0;36mSafeSessionState.__getitem__\u001b[0;34m(self, key)\u001b[0m\n\u001b[1;32m     91\u001b[0m \u001b[38;5;28mself\u001b[39m\u001b[38;5;241m.\u001b[39m_yield_callback()\n\u001b[1;32m     92\u001b[0m \u001b[38;5;28;01mwith\u001b[39;00m \u001b[38;5;28mself\u001b[39m\u001b[38;5;241m.\u001b[39m_lock:\n\u001b[0;32m---> 93\u001b[0m     \u001b[38;5;28;01mreturn\u001b[39;00m \u001b[38;5;28;43mself\u001b[39;49m\u001b[38;5;241;43m.\u001b[39;49m\u001b[43m_state\u001b[49m\u001b[43m[\u001b[49m\u001b[43mkey\u001b[49m\u001b[43m]\u001b[49m\n",
      "File \u001b[0;32m~/Documents/ventbot/.venv/lib/python3.12/site-packages/streamlit/runtime/state/session_state.py:410\u001b[0m, in \u001b[0;36mSessionState.__getitem__\u001b[0;34m(self, key)\u001b[0m\n\u001b[1;32m    408\u001b[0m     \u001b[38;5;28;01mreturn\u001b[39;00m \u001b[38;5;28mself\u001b[39m\u001b[38;5;241m.\u001b[39m_getitem(widget_id, key)\n\u001b[1;32m    409\u001b[0m \u001b[38;5;28;01mexcept\u001b[39;00m \u001b[38;5;167;01mKeyError\u001b[39;00m:\n\u001b[0;32m--> 410\u001b[0m     \u001b[38;5;28;01mraise\u001b[39;00m \u001b[38;5;167;01mKeyError\u001b[39;00m(_missing_key_error_message(key))\n",
      "\u001b[0;31mKeyError\u001b[0m: 'st.session_state has no key \"bot_response\". Did you forget to initialize it? More info: https://docs.streamlit.io/library/advanced-features/session-state#initialization'"
     ]
    }
   ],
   "source": [
    "st.set_page_config(page_title=\"ventbot - talk about anything\")\n",
    "\n",
    "if 'bot_response' not in st.session_state:\n",
    "    st.session_state['bot_response'] = [\"Hi, what do you want to talk about today?\"]\n",
    "if 'user_input' not in st.session_state:\n",
    "    st.session_state['user_input'] = ['Hello!']\n",
    "\n",
    "input_container = st.container()\n",
    "colored_header(label='', description='', color_name='blue-30')\n",
    "response_container = st.container()\n",
    "\n",
    "# User input\n",
    "def get_input():\n",
    "    input_text = st.text_input(\"You: \", \"\", key=\"input\")\n",
    "    return input_text\n",
    "\n",
    "with input_container:\n",
    "    user_input = get_input()\n",
    "\n",
    "# Response output\n",
    "def generate_response(prompt):\n",
    "    chatbot = hugchat.ChatBot(cookie_path=\"cookies.json\")\n",
    "    response = chatbot.chat(prompt)\n",
    "    return response\n",
    "\n",
    "with response_container:\n",
    "    if user_input:\n",
    "        response = generate_response(user_input)\n",
    "        st.session_state.user_input.append(user_input)\n",
    "        st.session_state.bot_response.append(response)\n",
    "        \n",
    "    if st.session_state['bot_response']:\n",
    "        for i in range(len(st.session_state['bot_response'])):\n",
    "            user_input_message = st.session_state['user_input'][i]\n",
    "            bot_response_message = st.session_state['bot_response'][i]\n",
    "            \n",
    "            # Ensure messages are JSON-compatible (e.g., use string representation)\n",
    "            message(user_input_message, is_user=True, key=str(i)+ '_user')\n",
    "            message(str(bot_response_message), key=str(i))  # Convert bot response to string"
   ]
  }
 ],
 "metadata": {
  "kernelspec": {
   "display_name": ".venv",
   "language": "python",
   "name": "python3"
  },
  "language_info": {
   "codemirror_mode": {
    "name": "ipython",
    "version": 3
   },
   "file_extension": ".py",
   "mimetype": "text/x-python",
   "name": "python",
   "nbconvert_exporter": "python",
   "pygments_lexer": "ipython3",
   "version": "3.12.2"
  }
 },
 "nbformat": 4,
 "nbformat_minor": 2
}
